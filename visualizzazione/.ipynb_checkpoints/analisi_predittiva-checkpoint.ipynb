{
 "cells": [
  {
   "cell_type": "markdown",
   "metadata": {},
   "source": [
    "# Quante persone saranno contagiate?"
   ]
  },
  {
   "cell_type": "markdown",
   "metadata": {},
   "source": [
    "Si vedono tante proiezioni sui contagiati, tutte fanno vedere una curva esponenziale (che shizza verso l'alto).\n",
    "Questo effetto piuttosto drammatico è dato più dalla scelta del modello statistico che dai dati in sè.\n",
    "\n",
    "In questo notebook confrontiamo il modello esponenziale con un modello più sobrio, che tiene conto del più comune andamento dei fenomeni biologici: cioè una rapida crescita seguita da un assestamento. Faremo anche una predizione su quando avverrà questo assestamento.\n",
    "\n",
    "Per cominciare importiamo le librerie, carichiamo i dati e facciamo una pulizia."
   ]
  },
  {
   "cell_type": "code",
   "execution_count": 1,
   "metadata": {},
   "outputs": [
    {
     "data": {
      "text/html": [
       "<div>\n",
       "<style scoped>\n",
       "    .dataframe tbody tr th:only-of-type {\n",
       "        vertical-align: middle;\n",
       "    }\n",
       "\n",
       "    .dataframe tbody tr th {\n",
       "        vertical-align: top;\n",
       "    }\n",
       "\n",
       "    .dataframe thead th {\n",
       "        text-align: right;\n",
       "    }\n",
       "</style>\n",
       "<table border=\"1\" class=\"dataframe\">\n",
       "  <thead>\n",
       "    <tr style=\"text-align: right;\">\n",
       "      <th></th>\n",
       "      <th>Regione</th>\n",
       "      <th>Ricoverati con sintomi</th>\n",
       "      <th>Terapia intensiva</th>\n",
       "      <th>Isolamento domiciliare</th>\n",
       "      <th>Totale attualmente positivi</th>\n",
       "      <th>DIMESSI GUARITI</th>\n",
       "      <th>DECEDUTI</th>\n",
       "      <th>CASI TOTALI</th>\n",
       "      <th>TAMPONI</th>\n",
       "      <th>datetime</th>\n",
       "      <th>aggiornamento</th>\n",
       "      <th>fonte</th>\n",
       "      <th>numero</th>\n",
       "    </tr>\n",
       "  </thead>\n",
       "  <tbody>\n",
       "    <tr>\n",
       "      <td>0</td>\n",
       "      <td>Lombardia</td>\n",
       "      <td>1622.0</td>\n",
       "      <td>309.0</td>\n",
       "      <td>77.0</td>\n",
       "      <td>2008.0</td>\n",
       "      <td>469.0</td>\n",
       "      <td>135.0</td>\n",
       "      <td>2612.0</td>\n",
       "      <td>13556.0</td>\n",
       "      <td>2020-03-06</td>\n",
       "      <td>pomeridiano</td>\n",
       "      <td>http://www.protezionecivile.gov.it/attivita-ri...</td>\n",
       "      <td>2612.0</td>\n",
       "    </tr>\n",
       "    <tr>\n",
       "      <td>1</td>\n",
       "      <td>Emilia Romagna</td>\n",
       "      <td>397.0</td>\n",
       "      <td>53.0</td>\n",
       "      <td>366.0</td>\n",
       "      <td>816.0</td>\n",
       "      <td>17.0</td>\n",
       "      <td>37.0</td>\n",
       "      <td>870.0</td>\n",
       "      <td>3136.0</td>\n",
       "      <td>2020-03-06</td>\n",
       "      <td>pomeridiano</td>\n",
       "      <td>http://www.protezionecivile.gov.it/attivita-ri...</td>\n",
       "      <td>870.0</td>\n",
       "    </tr>\n",
       "    <tr>\n",
       "      <td>2</td>\n",
       "      <td>Veneto</td>\n",
       "      <td>117.0</td>\n",
       "      <td>27.0</td>\n",
       "      <td>310.0</td>\n",
       "      <td>454.0</td>\n",
       "      <td>22.0</td>\n",
       "      <td>12.0</td>\n",
       "      <td>488.0</td>\n",
       "      <td>13023.0</td>\n",
       "      <td>2020-03-06</td>\n",
       "      <td>pomeridiano</td>\n",
       "      <td>http://www.protezionecivile.gov.it/attivita-ri...</td>\n",
       "      <td>488.0</td>\n",
       "    </tr>\n",
       "    <tr>\n",
       "      <td>3</td>\n",
       "      <td>Marche</td>\n",
       "      <td>73.0</td>\n",
       "      <td>20.0</td>\n",
       "      <td>62.0</td>\n",
       "      <td>155.0</td>\n",
       "      <td>NaN</td>\n",
       "      <td>4.0</td>\n",
       "      <td>159.0</td>\n",
       "      <td>585.0</td>\n",
       "      <td>2020-03-06</td>\n",
       "      <td>pomeridiano</td>\n",
       "      <td>http://www.protezionecivile.gov.it/attivita-ri...</td>\n",
       "      <td>159.0</td>\n",
       "    </tr>\n",
       "    <tr>\n",
       "      <td>4</td>\n",
       "      <td>Piemonte</td>\n",
       "      <td>57.0</td>\n",
       "      <td>30.0</td>\n",
       "      <td>52.0</td>\n",
       "      <td>139.0</td>\n",
       "      <td>NaN</td>\n",
       "      <td>4.0</td>\n",
       "      <td>143.0</td>\n",
       "      <td>793.0</td>\n",
       "      <td>2020-03-06</td>\n",
       "      <td>pomeridiano</td>\n",
       "      <td>http://www.protezionecivile.gov.it/attivita-ri...</td>\n",
       "      <td>143.0</td>\n",
       "    </tr>\n",
       "  </tbody>\n",
       "</table>\n",
       "</div>"
      ],
      "text/plain": [
       "          Regione  Ricoverati con sintomi  Terapia intensiva  \\\n",
       "0       Lombardia                  1622.0              309.0   \n",
       "1  Emilia Romagna                   397.0               53.0   \n",
       "2          Veneto                   117.0               27.0   \n",
       "3          Marche                    73.0               20.0   \n",
       "4        Piemonte                    57.0               30.0   \n",
       "\n",
       "   Isolamento domiciliare  Totale attualmente positivi  DIMESSI GUARITI  \\\n",
       "0                    77.0                       2008.0            469.0   \n",
       "1                   366.0                        816.0             17.0   \n",
       "2                   310.0                        454.0             22.0   \n",
       "3                    62.0                        155.0              NaN   \n",
       "4                    52.0                        139.0              NaN   \n",
       "\n",
       "   DECEDUTI  CASI TOTALI  TAMPONI    datetime aggiornamento  \\\n",
       "0     135.0       2612.0  13556.0  2020-03-06   pomeridiano   \n",
       "1      37.0        870.0   3136.0  2020-03-06   pomeridiano   \n",
       "2      12.0        488.0  13023.0  2020-03-06   pomeridiano   \n",
       "3       4.0        159.0    585.0  2020-03-06   pomeridiano   \n",
       "4       4.0        143.0    793.0  2020-03-06   pomeridiano   \n",
       "\n",
       "                                               fonte  numero  \n",
       "0  http://www.protezionecivile.gov.it/attivita-ri...  2612.0  \n",
       "1  http://www.protezionecivile.gov.it/attivita-ri...   870.0  \n",
       "2  http://www.protezionecivile.gov.it/attivita-ri...   488.0  \n",
       "3  http://www.protezionecivile.gov.it/attivita-ri...   159.0  \n",
       "4  http://www.protezionecivile.gov.it/attivita-ri...   143.0  "
      ]
     },
     "execution_count": 1,
     "metadata": {},
     "output_type": "execute_result"
    }
   ],
   "source": [
    "import numpy as np\n",
    "import pandas as pd\n",
    "import seaborn as sns\n",
    "import matplotlib.pyplot as plt\n",
    "from lmfit import Model\n",
    "\n",
    "df = pd.read_csv('./../publication/riepilogoArchivio.csv')\n",
    "# df = df.dropna()\n",
    "df['numero'] = df['CASI TOTALI']\n",
    "df.head(5)"
   ]
  },
  {
   "cell_type": "markdown",
   "metadata": {},
   "source": [
    "Prendiamo in esame i malati cumulativi in base ai giorni."
   ]
  },
  {
   "cell_type": "code",
   "execution_count": 2,
   "metadata": {},
   "outputs": [
    {
     "data": {
      "image/png": "[encoded data removed]",
      "text/plain": [
       "<Figure size 432x288 with 1 Axes>"
      ]
     },
     "metadata": {
      "needs_background": "light"
     },
     "output_type": "display_data"
    }
   ],
   "source": [
    "# semplifichiamo le date usando il giorno dell'anno ( da 0 a 365 )\n",
    "df['tempo'] = df['datetime'].map( lambda d: pd.to_datetime(d).timetuple().tm_yday )\n",
    "\n",
    "# raggruppa in base al giorno\n",
    "df_by_datetime = df[ ['datetime', 'tempo', 'numero'] ].groupby('tempo')\n",
    "df_by_datetime = df_by_datetime.sum().sort_values(by='tempo')\n",
    "df_by_datetime = df_by_datetime.reset_index()\n",
    "\n",
    "# contagi cumulativi\n",
    "g = sns.scatterplot(data=df_by_datetime, x='tempo', y='numero')\n",
    "g.set_title('Andamento numero contagiati (cumulativo)')\n",
    "plt.show()"
   ]
  },
  {
   "cell_type": "markdown",
   "metadata": {},
   "source": [
    "Definiamo quattro modelli diversi\n",
    "- linea\n",
    "- potenza\n",
    "- esponente\n",
    "- sigmoide"
   ]
  },
  {
   "cell_type": "code",
   "execution_count": 3,
   "metadata": {},
   "outputs": [],
   "source": [
    "def line(x, a, b, c):\n",
    "    return x*a + b\n",
    "line_init_params = { 'a': 2, 'b': 1, 'c':0 }\n",
    "\n",
    "def power(x, a, b, c):\n",
    "    return (x**a) * b + c\n",
    "pow_init_params = { 'a': 2, 'b': 1, 'c':0 }\n",
    "\n",
    "def exponent(x, a, b, c):\n",
    "    return (a**x) * b + c\n",
    "exp_init_params = { 'a': 2, 'b': 10, 'c':0 }\n",
    "\n",
    "def sigmoid(x, a, b, c):\n",
    "    expo = a * (b - x)\n",
    "    sig = 1 / ( 1 + np.exp( expo ) ) * c\n",
    "    return sig\n",
    "sig_init_params = { 'a': 0.001, 'b': 500, 'c':4000 }\n",
    "\n",
    "all_models_and_initial_params = [\n",
    "    ['lineare', line, line_init_params],\n",
    "    ['potenza', power, pow_init_params],\n",
    "    ['esponenziale', exponent, exp_init_params],\n",
    "    ['sigmoidale', sigmoid, sig_init_params]\n",
    "]"
   ]
  },
  {
   "cell_type": "code",
   "execution_count": 4,
   "metadata": {},
   "outputs": [
    {
     "data": {
      "image/png": "[encoded data removed]",
      "text/plain": [
       "<Figure size 432x288 with 1 Axes>"
      ]
     },
     "metadata": {
      "needs_background": "light"
     },
     "output_type": "display_data"
    }
   ],
   "source": [
    "df_x = df_by_datetime['tempo'].values\n",
    "df_y = df_by_datetime['numero'].values\n",
    "\n",
    "for mod_name, mod, init_params in all_models_and_initial_params:\n",
    "    \n",
    "    model  = Model(mod)\n",
    "    result = model.fit( df_y, x=df_x, **init_params)\n",
    "    \n",
    "    all_year = np.linspace(np.min(df_x), np.max(df_x)*1.2)\n",
    "    predictions = result.eval(x=all_year)\n",
    "    plt.plot(all_year, predictions, label=mod_name)\n",
    "    # print(result.fit_report())   # decommenta questa linea per ottenere le metriche\n",
    "\n",
    "plt.plot(df_x, df_y, 'o', label='osservazioni')\n",
    "plt.legend(loc='best')\n",
    "plt.show()"
   ]
  }
 ],
 "metadata": {
  "jupytext": {
   "formats": "ipynb,py:light"
  },
  "kernelspec": {
   "display_name": "Python 3",
   "language": "python",
   "name": "python3"
  },
  "language_info": {
   "codemirror_mode": {
    "name": "ipython",
    "version": 3
   },
   "file_extension": ".py",
   "mimetype": "text/x-python",
   "name": "python",
   "nbconvert_exporter": "python",
   "pygments_lexer": "ipython3",
   "version": "3.7.4"
  }
 },
 "nbformat": 4,
 "nbformat_minor": 4
}
